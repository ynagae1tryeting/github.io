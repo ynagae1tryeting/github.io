{
 "cells": [
  {
   "cell_type": "code",
   "execution_count": 1,
   "metadata": {},
   "outputs": [
    {
     "name": "stderr",
     "output_type": "stream",
     "text": [
      "Using TensorFlow backend.\n"
     ]
    }
   ],
   "source": [
    "import numpy as np\n",
    "from keras.models import Model\n",
    "from keras.layers import Input\n",
    "from keras.layers.core import Dense\n",
    "from keras.layers.noise import GaussianDropout\n",
    "from keras import backend as K\n",
    "import json\n",
    "from collections import OrderedDict"
   ]
  },
  {
   "cell_type": "code",
   "execution_count": 2,
   "metadata": {
    "collapsed": true
   },
   "outputs": [],
   "source": [
    "def format_decimal(arr, places=6):\n",
    "    return [round(x * 10**places) / 10**places for x in arr]"
   ]
  },
  {
   "cell_type": "code",
   "execution_count": 3,
   "metadata": {
    "collapsed": true
   },
   "outputs": [],
   "source": [
    "DATA = OrderedDict()"
   ]
  },
  {
   "cell_type": "markdown",
   "metadata": {},
   "source": [
    "### GaussianDropout"
   ]
  },
  {
   "cell_type": "markdown",
   "metadata": {},
   "source": [
    "**[noise.GaussianDropout.0] should pass through**"
   ]
  },
  {
   "cell_type": "code",
   "execution_count": 4,
   "metadata": {},
   "outputs": [
    {
     "name": "stdout",
     "output_type": "stream",
     "text": [
      "in: [0, 0.2, 0.5, -0.1, 1, 2]\n",
      "in shape: (6,)\n",
      "weights:  [[-0.70012161 -0.8783863 ]\n",
      " [ 1.27318097 -1.53115632]\n",
      " [ 1.36356888  0.90052448]\n",
      " [-1.7980838   0.86897991]\n",
      " [ 0.62728353  1.25668481]\n",
      " [-1.03947462  0.01474715]]\n",
      "bias:  [ 0.95711006 -1.10933608]\n",
      "out shape: (2,)\n",
      "out: [0.621673, 0.233976]\n"
     ]
    }
   ],
   "source": [
    "layer_0 = Input(shape=(6,))\n",
    "layer_1 = Dense(2)(layer_0)\n",
    "layer_2 = GaussianDropout(0.5)(layer_1)\n",
    "model = Model(inputs=layer_0, outputs=layer_2)\n",
    "\n",
    "# seed for reproducibility\n",
    "np.random.seed(250)\n",
    "W = np.random.randn(6,2)\n",
    "b = np.random.randn(2)\n",
    "model.set_weights([W, b])\n",
    "\n",
    "data_in = [0, 0.2, 0.5, -0.1, 1, 2]\n",
    "data_in_shape = (6,)\n",
    "print('in:', data_in)\n",
    "print('in shape:', data_in_shape)\n",
    "print('weights: ',W)\n",
    "print('bias: ',b)\n",
    "arr_in = np.array(data_in, dtype='float32').reshape(data_in_shape)\n",
    "result = model.predict(np.array([arr_in]))\n",
    "arr_out = result[0]\n",
    "data_out_shape = arr_out.shape\n",
    "print('out shape:', data_out_shape)\n",
    "data_out = format_decimal(arr_out.ravel().tolist())\n",
    "print('out:', data_out)\n",
    "\n",
    "DATA['noise.GaussianDropout.0'] = {\n",
    "    'input': {'data': data_in, 'shape': data_in_shape},\n",
    "    'weights': [{'data': format_decimal(w.ravel().tolist()), 'shape': w.shape} for w in [W, b]],\n",
    "    'expected': {'data': data_out, 'shape': data_out_shape}\n",
    "}"
   ]
  },
  {
   "cell_type": "markdown",
   "metadata": {},
   "source": [
    "### export for Keras.js tests"
   ]
  },
  {
   "cell_type": "code",
   "execution_count": 5,
   "metadata": {
    "collapsed": true
   },
   "outputs": [],
   "source": [
    "import os\n",
    "\n",
    "filename = '../../../test/data/layers/noise/GaussianDropout.json'\n",
    "if not os.path.exists(os.path.dirname(filename)):\n",
    "    os.makedirs(os.path.dirname(filename))\n",
    "with open(filename, 'w') as f:\n",
    "    json.dump(DATA, f)"
   ]
  },
  {
   "cell_type": "code",
   "execution_count": 6,
   "metadata": {
    "scrolled": true
   },
   "outputs": [
    {
     "name": "stdout",
     "output_type": "stream",
     "text": [
      "{\"noise.GaussianDropout.0\": {\"input\": {\"data\": [0, 0.2, 0.5, -0.1, 1, 2], \"shape\": [6]}, \"weights\": [{\"data\": [-0.700122, -0.878386, 1.273181, -1.531156, 1.363569, 0.900524, -1.798084, 0.86898, 0.627284, 1.256685, -1.039475, 0.014747], \"shape\": [6, 2]}, {\"data\": [0.95711, -1.109336], \"shape\": [2]}], \"expected\": {\"data\": [0.621673, 0.233976], \"shape\": [2]}}}\n"
     ]
    }
   ],
   "source": [
    "print(json.dumps(DATA))"
   ]
  },
  {
   "cell_type": "code",
   "execution_count": null,
   "metadata": {
    "collapsed": true
   },
   "outputs": [],
   "source": []
  }
 ],
 "metadata": {
  "kernelspec": {
   "display_name": "Python 3",
   "language": "python",
   "name": "python3"
  },
  "language_info": {
   "codemirror_mode": {
    "name": "ipython",
    "version": 3
   },
   "file_extension": ".py",
   "mimetype": "text/x-python",
   "name": "python",
   "nbconvert_exporter": "python",
   "pygments_lexer": "ipython3",
   "version": "3.6.3"
  }
 },
 "nbformat": 4,
 "nbformat_minor": 1
}
